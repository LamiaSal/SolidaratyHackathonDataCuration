{
 "cells": [
  {
   "cell_type": "markdown",
   "id": "2b0a601c-c7ca-4b13-8db8-8c2be58b89a2",
   "metadata": {},
   "source": [
    "# Traduction of dataset to english"
   ]
  },
  {
   "cell_type": "code",
   "execution_count": 1,
   "id": "2729e1a4-8b8a-4b65-a1c0-3164379fe497",
   "metadata": {},
   "outputs": [],
   "source": [
    "%load_ext autoreload\n",
    "%autoreload 2"
   ]
  },
  {
   "cell_type": "markdown",
   "id": "355d6fcf-ecc2-48e4-8784-f773f00cf10d",
   "metadata": {},
   "source": [
    "## imports"
   ]
  },
  {
   "cell_type": "code",
   "execution_count": 2,
   "id": "e82c16c8-0601-4050-bfbc-37f0c9d41f62",
   "metadata": {},
   "outputs": [],
   "source": [
    "from src.utils import *"
   ]
  },
  {
   "cell_type": "code",
   "execution_count": 3,
   "id": "2db4b56f-db56-4e6a-ae15-cd73e3799506",
   "metadata": {},
   "outputs": [
    {
     "name": "stderr",
     "output_type": "stream",
     "text": [
      "C:\\Users\\lamia.salhi\\.conda\\envs\\hackathon\\Lib\\site-packages\\tqdm\\auto.py:21: TqdmWarning: IProgress not found. Please update jupyter and ipywidgets. See https://ipywidgets.readthedocs.io/en/stable/user_install.html\n",
      "  from .autonotebook import tqdm as notebook_tqdm\n"
     ]
    }
   ],
   "source": [
    "from src.Darija2Eng import Darija2Eng\n",
    "import pandas as pd\n",
    "from typing import Union\n",
    "\n",
    "\n",
    "VERIFIED_REQUESTS_URL = (\n",
    "    \"https://docs.google.com/spreadsheets/d/1PXcAtI5L95hHSXAiRl3Y4v5O4coG39S86OTfBEcvLTE/edit#gid=0\"\n",
    ")\n",
    "REQUESTS_URL = \"https://docs.google.com/spreadsheets/d/1gYoBBiBo1L18IVakHkf3t1fOGvHWb23loadyFZUeHJs/edit#gid=966953708\"\n",
    "INTERVENTIONS_URL = (\n",
    "    \"https://docs.google.com/spreadsheets/d/1eXOTqunOWWP8FRdENPs4cU9ulISm4XZWYJJNR1-SrwY/edit#gid=2089222765\"\n",
    ")"
   ]
  },
  {
   "cell_type": "markdown",
   "id": "eb7ed1a5-71de-4a17-93fb-d656af8131e1",
   "metadata": {},
   "source": [
    "## preprocessing 0 : language standardization"
   ]
  },
  {
   "cell_type": "code",
   "execution_count": 4,
   "id": "ae6c8cba-e024-401d-bb40-0bd7ca08ed61",
   "metadata": {},
   "outputs": [],
   "source": [
    "darija2eng_obj = Darija2Eng()"
   ]
  },
  {
   "cell_type": "markdown",
   "id": "704986f7-950a-4e10-b2ee-f6fac64de6f5",
   "metadata": {},
   "source": [
    "### requests"
   ]
  },
  {
   "cell_type": "code",
   "execution_count": 5,
   "id": "7e144462-748e-4a3d-9a8c-a3f2f2763a1c",
   "metadata": {},
   "outputs": [
    {
     "name": "stdout",
     "output_type": "stream",
     "text": [
      "Parsing Google Sheet: https://docs.google.com/spreadsheets/d/1PXcAtI5L95hHSXAiRl3Y4v5O4coG39S86OTfBEcvLTE/edit#gid=0\n",
      "Parsing Google Sheet: https://docs.google.com/spreadsheets/d/1gYoBBiBo1L18IVakHkf3t1fOGvHWb23loadyFZUeHJs/edit#gid=966953708\n"
     ]
    }
   ],
   "source": [
    "verified_df = parse_gg_sheet(VERIFIED_REQUESTS_URL)\n",
    "df = parse_gg_sheet(REQUESTS_URL)"
   ]
  },
  {
   "cell_type": "code",
   "execution_count": 6,
   "id": "af841687-dd5c-44ba-a73a-0a63df5c73de",
   "metadata": {},
   "outputs": [
    {
     "data": {
      "text/plain": [
       "Index(['Horodateur', 'ما هي احتياجاتك؟ (أضفها إذا لم يتم ذكرها)',\n",
       "       'ما هي أقرب مدينة إليك؟ (أضفها إذا لم يتم ذكرها)',\n",
       "       '  لأي  جماعة / قيادة / دوار تنتمون ؟',\n",
       "       'هل يمكنك تقديم الإحداثيات الدقيقة للموقع؟ (ادا كنت لا توجد بعين المكان) متلاً \\n31.01837503440344, -6.781405948842175',\n",
       "       'الرجاء الضغط على الرابط التالي لمعرفة موقعك إذا كان متاحا',\n",
       "       'هل توجد بعين المكان؟', 'العنوان أو اسم القرية (عند الامكان)',\n",
       "       '(عند الامكان) رقم هاتف شخص موجود في عين المكان',\n",
       "       '(إختياري) هل يمكنك أن تعطينا المزيد من المعلومات حول الوضع؟',\n",
       "       'مصدر المعلومات (إختياري)', 'Status', 'GeoStamp', 'GeoCode',\n",
       "       'GeoAddress',\n",
       "       'هل يمكنك تقديم الإحداثيات الدقيقة للموقع؟ (ادا كنت لا توجد بعين المكان) متلاً \\n31.01837503440344, -6.781405948842175.1',\n",
       "       'Verified', 'GeoStamp.1', 'GeoCode.1', 'GeoAddress.1', 'GeoStamp.2',\n",
       "       'GeoCode.2', 'GeoAddress.2'],\n",
       "      dtype='object')"
      ]
     },
     "execution_count": 6,
     "metadata": {},
     "output_type": "execute_result"
    }
   ],
   "source": [
    "df.columns"
   ]
  },
  {
   "cell_type": "code",
   "execution_count": 7,
   "id": "531d9927-c8a2-427e-8956-8cfb825fc551",
   "metadata": {},
   "outputs": [],
   "source": [
    "requests_columns_to_translate = ['ما هي احتياجاتك؟ (أضفها إذا لم يتم ذكرها)',\n",
    "       'ما هي أقرب مدينة إليك؟ (أضفها إذا لم يتم ذكرها)',\n",
    "       '  لأي  جماعة / قيادة / دوار تنتمون ؟',\n",
    "       'هل يمكنك تقديم الإحداثيات الدقيقة للموقع؟ (ادا كنت لا توجد بعين المكان) متلاً \\n31.01837503440344, -6.781405948842175',\n",
    "       'الرجاء الضغط على الرابط التالي لمعرفة موقعك إذا كان متاحا',\n",
    "       'هل توجد بعين المكان؟'\n",
    "        , 'العنوان أو اسم القرية (عند الامكان)',\n",
    "       '(إختياري) هل يمكنك أن تعطينا المزيد من المعلومات حول الوضع؟',\n",
    "       'مصدر المعلومات (إختياري)']"
   ]
  },
  {
   "cell_type": "code",
   "execution_count": null,
   "id": "b67e1a70-0f4c-457d-bc5e-81ff996bc8e5",
   "metadata": {},
   "outputs": [],
   "source": [
    "# iteration on the columns\n",
    "df = df[requests_columns_to_translate].fillna(value=\"\").copy()\n",
    "for col in requests_columns_to_translate:\n",
    "    col_trad = darija2eng_obj.prediction(col)\n",
    "    print(col_trad)\n",
    "    df[f\"{col_trad}\"] = df[col].apply(darija2eng_obj.prediction)"
   ]
  },
  {
   "cell_type": "code",
   "execution_count": null,
   "id": "0133279b-862a-4642-abc9-e7a12e3a6e1d",
   "metadata": {},
   "outputs": [],
   "source": [
    "df.to_csv(\"form_help_request.csv\", index = False)"
   ]
  },
  {
   "cell_type": "markdown",
   "id": "db25a42e-f0c7-4f3b-b417-aedc38bce4b8",
   "metadata": {},
   "source": [
    "### interentions"
   ]
  },
  {
   "cell_type": "code",
   "execution_count": null,
   "id": "1020c872-87f3-45c1-acc0-e85d12d13833",
   "metadata": {},
   "outputs": [],
   "source": [
    "interventions_df = parse_gg_sheet(INTERVENTIONS_URL)"
   ]
  },
  {
   "cell_type": "code",
   "execution_count": null,
   "id": "fcdc9e89-569a-4be6-9f68-3e87e6336f8e",
   "metadata": {},
   "outputs": [],
   "source": [
    "interventions_columns_to_translate = [\"Pouvez-vous nous préciser si vous êtes déjà intervenus ou si vous prévoyez de le faire | Tell us if you already made the intervention, or if you're planning to do it\",\n",
    "       \"Types d'assistance fournie | Types of Assistance Provided\",\n",
    "       \"Etat de la région actuel | Current situation of the area \",\n",
    "       \"Si possible, pouvez-vous fournir plus de détails sur l'intervention ? | If possible, Can you provide more details about the intervention? \",\n",
    "       \"Nom du Douar ou Caïdat | Douar or Caïdat name \",\n",
    "       \"Toute information complémentaire est la bienvenue / Any Additional info is welcome\",\n",
    "       \"Population du douar si disponible | Population of the douar if available\",\n",
    "       \"Etat de La route au douar | State of the road to the douar\"]"
   ]
  },
  {
   "cell_type": "code",
   "execution_count": null,
   "id": "cab136c8-24ce-4424-ba68-ebee45288282",
   "metadata": {},
   "outputs": [],
   "source": [
    "%%time\n",
    "interventions_df = interventions_df[interventions_columns_to_translate].fillna(value=\"\").copy()\n",
    "for col in interventions_columns_to_translate:\n",
    "    col_trad = darija2eng_obj.prediction(col)\n",
    "    print(col_trad)\n",
    "    df[f\"{col_trad}\"] = interventions_df[col].apply(darija2eng_obj.prediction)"
   ]
  },
  {
   "cell_type": "code",
   "execution_count": null,
   "id": "2d4e8929-90fe-47c2-b991-b62c0ff431a8",
   "metadata": {},
   "outputs": [],
   "source": [
    "%%time\n",
    "df_test[\"1\"] = df_test[\"Types d'assistance fournie | Types of Assistance Provided\"].apply(darija2eng_obj.prediction)\n",
    "df_test"
   ]
  },
  {
   "cell_type": "code",
   "execution_count": 111,
   "id": "6f5f0687-521c-4acb-bda6-d1483901b6dd",
   "metadata": {},
   "outputs": [
    {
     "data": {
      "text/plain": [
       "Index(['Horodateur', 'ما هي احتياجاتك؟ (أضفها إذا لم يتم ذكرها)',\n",
       "       'ما هي أقرب مدينة إليك؟ (أضفها إذا لم يتم ذكرها)',\n",
       "       '  لأي  جماعة / قيادة / دوار تنتمون ؟',\n",
       "       'هل يمكنك تقديم الإحداثيات الدقيقة للموقع؟ (ادا كنت لا توجد بعين المكان) متلاً \\n31.01837503440344, -6.781405948842175',\n",
       "       'الرجاء الضغط على الرابط التالي لمعرفة موقعك إذا كان متاحا',\n",
       "       'هل توجد بعين المكان؟', 'العنوان أو اسم القرية (عند الامكان)',\n",
       "       '(عند الامكان) رقم هاتف شخص موجود في عين المكان',\n",
       "       '(إختياري) هل يمكنك أن تعطينا المزيد من المعلومات حول الوضع؟',\n",
       "       'مصدر المعلومات (إختياري)', 'Status', 'GeoStamp', 'GeoCode',\n",
       "       'GeoAddress',\n",
       "       'هل يمكنك تقديم الإحداثيات الدقيقة للموقع؟ (ادا كنت لا توجد بعين المكان) متلاً \\n31.01837503440344, -6.781405948842175.1',\n",
       "       'Verified', 'GeoStamp.1', 'GeoCode.1', 'GeoAddress.1', 'GeoStamp.2',\n",
       "       'GeoCode.2', 'GeoAddress.2'],\n",
       "      dtype='object')"
      ]
     },
     "execution_count": 111,
     "metadata": {},
     "output_type": "execute_result"
    }
   ],
   "source": [
    "df.columns"
   ]
  },
  {
   "cell_type": "code",
   "execution_count": 118,
   "id": "146b5618-4c4d-4fd7-b523-4fca8618d0dd",
   "metadata": {},
   "outputs": [
    {
     "data": {
      "text/plain": [
       "'Someone else in the place.'"
      ]
     },
     "execution_count": 118,
     "metadata": {},
     "output_type": "execute_result"
    }
   ],
   "source": [
    "darija2eng_obj.prediction(\"شخص بعين المكان\")"
   ]
  },
  {
   "cell_type": "code",
   "execution_count": null,
   "id": "ded7415e-e899-48d9-bf48-6887de5c01eb",
   "metadata": {},
   "outputs": [],
   "source": []
  },
  {
   "cell_type": "code",
   "execution_count": null,
   "id": "4b67f022-c8aa-4a79-b938-feb85e3a0777",
   "metadata": {},
   "outputs": [],
   "source": []
  }
 ],
 "metadata": {
  "kernelspec": {
   "display_name": "hackathon_kernel",
   "language": "python",
   "name": "hackathon_kernel"
  },
  "language_info": {
   "codemirror_mode": {
    "name": "ipython",
    "version": 3
   },
   "file_extension": ".py",
   "mimetype": "text/x-python",
   "name": "python",
   "nbconvert_exporter": "python",
   "pygments_lexer": "ipython3",
   "version": "3.11.3"
  }
 },
 "nbformat": 4,
 "nbformat_minor": 5
}
