{
 "cells": [
  {
   "cell_type": "code",
   "execution_count": 1,
   "id": "68f9e7dd",
   "metadata": {},
   "outputs": [],
   "source": [
    "import pandas as pd\n",
    "\n",
    "\n",
    "def parse_gg_sheet(url):\n",
    "    print(\"Parsing Google Sheet:\", url)\n",
    "    url = url.replace(\"edit#gid=\", \"export?format=csv&gid=\")\n",
    "    df = pd.read_csv(url, on_bad_lines=\"warn\")\n",
    "    return df"
   ]
  },
  {
   "cell_type": "code",
   "execution_count": 2,
   "id": "c2ca7e6d",
   "metadata": {},
   "outputs": [],
   "source": [
    "VERIFIED_REQUESTS_URL = (\n",
    "    \"https://docs.google.com/spreadsheets/d/1PXcAtI5L95hHSXAiRl3Y4v5O4coG39S86OTfBEcvLTE/edit#gid=0\"\n",
    ")\n",
    "REQUESTS_URL = \"https://docs.google.com/spreadsheets/d/1gYoBBiBo1L18IVakHkf3t1fOGvHWb23loadyFZUeHJs/edit#gid=966953708\"\n",
    "INTERVENTIONS_URL = (\n",
    "    \"https://docs.google.com/spreadsheets/d/1eXOTqunOWWP8FRdENPs4cU9ulISm4XZWYJJNR1-SrwY/edit#gid=2089222765\"\n",
    ")"
   ]
  },
  {
   "cell_type": "code",
   "execution_count": 5,
   "id": "71abf2ad",
   "metadata": {},
   "outputs": [
    {
     "name": "stdout",
     "output_type": "stream",
     "text": [
      "Parsing Google Sheet: https://docs.google.com/spreadsheets/d/1PXcAtI5L95hHSXAiRl3Y4v5O4coG39S86OTfBEcvLTE/edit#gid=0\n"
     ]
    }
   ],
   "source": [
    "df= parse_gg_sheet(VERIFIED_REQUESTS_URL)"
   ]
  },
  {
   "cell_type": "code",
   "execution_count": null,
   "id": "b15bf6ae",
   "metadata": {},
   "outputs": [],
   "source": []
  }
 ],
 "metadata": {
  "kernelspec": {
   "display_name": "Python 3 (ipykernel)",
   "language": "python",
   "name": "python3"
  },
  "language_info": {
   "codemirror_mode": {
    "name": "ipython",
    "version": 3
   },
   "file_extension": ".py",
   "mimetype": "text/x-python",
   "name": "python",
   "nbconvert_exporter": "python",
   "pygments_lexer": "ipython3",
   "version": "3.11.5"
  }
 },
 "nbformat": 4,
 "nbformat_minor": 5
}
